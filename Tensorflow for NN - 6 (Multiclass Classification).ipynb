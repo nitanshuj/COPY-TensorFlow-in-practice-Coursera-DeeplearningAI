{
 "cells": [
  {
   "cell_type": "markdown",
   "id": "8d2de5f3",
   "metadata": {},
   "source": [
    "# Multi-class Classifier\n",
    "\n",
    "\n",
    "-------------------------"
   ]
  },
  {
   "cell_type": "markdown",
   "id": "e8447355",
   "metadata": {},
   "source": [
    "Here, will look at how to build a model to distinguish between more than two classes. \n",
    "\n",
    "The code will be similar to the ones you've been using before with a few key changes in the model and in the training parameters."
   ]
  },
  {
   "cell_type": "code",
   "execution_count": 1,
   "id": "67a68abe",
   "metadata": {},
   "outputs": [],
   "source": [
    "import zipfile\n",
    "import os\n",
    "\n",
    "%matplotlib inline\n",
    "\n",
    "import matplotlib.pyplot as plt\n",
    "import matplotlib.image as mpimg\n",
    "\n",
    "import tensorflow as tf\n",
    "from keras_preprocessing.image import ImageDataGenerator"
   ]
  },
  {
   "cell_type": "code",
   "execution_count": 2,
   "id": "2e75b320",
   "metadata": {},
   "outputs": [],
   "source": [
    "## Function for Plotting Loss and Accuracy\n",
    "# ----------------------------------------\n",
    "\n",
    "def plot_loss_acc(history):\n",
    "    \n",
    "    import matplotlib.pyplot as plt\n",
    "    '''Plots the training and validation loss and accuracy from a history object'''\n",
    "    acc = history.history['accuracy']\n",
    "    val_acc = history.history['val_accuracy']\n",
    "    loss = history.history['loss']\n",
    "    val_loss = history.history['val_loss']\n",
    "\n",
    "    epochs = range(len(acc))\n",
    "    plt.figure(figsize=(13,3))\n",
    "    \n",
    "    plt.subplot(1,2,1)\n",
    "    plt.plot(epochs, acc, 'bo', label='Training accuracy')\n",
    "    plt.plot(epochs, val_acc, 'b', label='Validation accuracy', color='red')\n",
    "    plt.title('Training and validation accuracy')\n",
    "\n",
    "    \n",
    "    plt.subplot(1,2,2)\n",
    "    plt.plot(epochs, loss, 'bo', label='Training Loss')\n",
    "    plt.plot(epochs, val_loss, 'b', label='Validation Loss', color='red')\n",
    "    plt.title('Training and validation loss')\n",
    "    plt.legend()\n",
    "\n",
    "    plt.show()"
   ]
  },
  {
   "cell_type": "code",
   "execution_count": 3,
   "id": "510aab3a",
   "metadata": {},
   "outputs": [],
   "source": [
    "path = r\"G:\\My Drive\\[Study]\\$ Primary Study work\\Python - ipynb Notebooks\\Data\\Dataset 3 - Rock, Paper, Scissor\"\n",
    "\n",
    "# Extract the archive \n",
    "\n",
    "local_zip = os.path.join(path, \"rps.zip\")\n",
    "zip_ref = zipfile.ZipFile(local_zip, 'r')\n",
    "zip_ref.extractall(os.path.join(path,'rps-train'))\n",
    "zip_ref.close()\n",
    "\n",
    "local_zip = os.path.join(path, \"rps-test-set.zip\")\n",
    "zip_ref = zipfile.ZipFile(local_zip, 'r')\n",
    "zip_ref.extractall(os.path.join(path,'rps-test'))\n",
    "zip_ref.close()"
   ]
  },
  {
   "cell_type": "code",
   "execution_count": 4,
   "id": "35de62b6",
   "metadata": {},
   "outputs": [
    {
     "name": "stdout",
     "output_type": "stream",
     "text": [
      "total training rock images: 840\n",
      "total training paper images: 840\n",
      "total training scissors images: 840\n",
      "\n",
      "----------------------------------------------------------------\n",
      "\n"
     ]
    }
   ],
   "source": [
    "## As usual, you will assign the directory names into variables and look at the filenames as a sanity check.\n",
    "##\n",
    "\n",
    "rock_dir = \"G:/My Drive/[Study]/$ Primary Study work/Python - ipynb Notebooks/Data/Dataset 3 - Rock, Paper, Scissor/rps-train/rps/rock\"\n",
    "paper_dir = \"G:/My Drive/[Study]/$ Primary Study work/Python - ipynb Notebooks/Data/Dataset 3 - Rock, Paper, Scissor/rps-train/rps/paper\"\n",
    "scissors_dir = \"G:/My Drive/[Study]/$ Primary Study work/Python - ipynb Notebooks/Data/Dataset 3 - Rock, Paper, Scissor/rps-train/rps/scissors\"\n",
    "\n",
    "print('total training rock images:', len(os.listdir(rock_dir)))\n",
    "print('total training paper images:', len(os.listdir(paper_dir)))\n",
    "print('total training scissors images:', len(os.listdir(scissors_dir)))\n",
    "\n",
    "print(\"\\n----------------------------------------------------------------\\n\")\n",
    "\n",
    "rock_files = os.listdir(rock_dir)\n",
    "#print(rock_files[:10])\n",
    "\n",
    "paper_files = os.listdir(paper_dir)\n",
    "#print(paper_files[:10])\n",
    "\n",
    "scissors_files = os.listdir(scissors_dir)\n",
    "#print(scissors_files[:10])"
   ]
  },
  {
   "cell_type": "code",
   "execution_count": 5,
   "id": "5188b802",
   "metadata": {},
   "outputs": [],
   "source": [
    "# # You can also inspect some of the images to see the variety in your model inputs.\n",
    "# #\n",
    "# pic_index = 2\n",
    "\n",
    "# next_rock = [os.path.join(rock_dir, fname) \n",
    "#                 for fname in rock_files[pic_index-2:pic_index]]\n",
    "# next_paper = [os.path.join(paper_dir, fname) \n",
    "#                 for fname in paper_files[pic_index-2:pic_index]]\n",
    "# next_scissors = [os.path.join(scissors_dir, fname) \n",
    "#                 for fname in scissors_files[pic_index-2:pic_index]]\n",
    "\n",
    "# for i, img_path in enumerate(next_rock+next_paper+next_scissors):\n",
    "#     img = mpimg.imread(img_path)\n",
    "#     plt.imshow(img)\n",
    "#     plt.axis('Off')\n",
    "#     plt.show()\n"
   ]
  },
  {
   "cell_type": "markdown",
   "id": "47ec39ec",
   "metadata": {},
   "source": [
    "----------------------------\n",
    "\n",
    "### <font color='brown'> Build the model </font>\n",
    "\n",
    "You will then build your CNN. You will use 4 convolution layers with 64-64-128-128 filters then append a `Dropout` layer to avoid overfitting and some Dense layers for the classification. The output layer would be a 3-neuron dense layer activated by [Softmax](https://www.tensorflow.org/api_docs/python/tf/nn/softmax). You've seen this in Course 1 when you were training with Fashion MNIST. It scales your output to a set of probabilities that add up to 1. The order of this 3-neuron output would be `paper`-`rock`-`scissors` (e.g. a `[0.8 0.2 0.0]` output means the model is prediciting 80% probability for paper and 20% probability for rock.\n",
    "\n",
    "You can examine the architecture with `model.summary()` below.\n",
    "\n",
    "-------------------------------------"
   ]
  },
  {
   "cell_type": "code",
   "execution_count": 6,
   "id": "4bf032da",
   "metadata": {
    "scrolled": true
   },
   "outputs": [
    {
     "name": "stdout",
     "output_type": "stream",
     "text": [
      "Model: \"sequential\"\n",
      "_________________________________________________________________\n",
      " Layer (type)                Output Shape              Param #   \n",
      "=================================================================\n",
      " conv2d (Conv2D)             (None, 148, 148, 64)      1792      \n",
      "                                                                 \n",
      " max_pooling2d (MaxPooling2D  (None, 74, 74, 64)       0         \n",
      " )                                                               \n",
      "                                                                 \n",
      " conv2d_1 (Conv2D)           (None, 72, 72, 64)        36928     \n",
      "                                                                 \n",
      " max_pooling2d_1 (MaxPooling  (None, 36, 36, 64)       0         \n",
      " 2D)                                                             \n",
      "                                                                 \n",
      " conv2d_2 (Conv2D)           (None, 34, 34, 64)        36928     \n",
      "                                                                 \n",
      " max_pooling2d_2 (MaxPooling  (None, 17, 17, 64)       0         \n",
      " 2D)                                                             \n",
      "                                                                 \n",
      " flatten (Flatten)           (None, 18496)             0         \n",
      "                                                                 \n",
      " dropout (Dropout)           (None, 18496)             0         \n",
      "                                                                 \n",
      " dense (Dense)               (None, 32)                591904    \n",
      "                                                                 \n",
      " dense_1 (Dense)             (None, 3)                 99        \n",
      "                                                                 \n",
      "=================================================================\n",
      "Total params: 667,651\n",
      "Trainable params: 667,651\n",
      "Non-trainable params: 0\n",
      "_________________________________________________________________\n"
     ]
    }
   ],
   "source": [
    "# Defining the Model\n",
    "# ------------------\n",
    "\n",
    "model = tf.keras.models.Sequential([\n",
    "    \n",
    "    # Note the input shape is the desired size of the image 150x150 with 3 bytes color\n",
    "    # FIRST CONVOLUTION\n",
    "    tf.keras.layers.Conv2D(64, (3,3), activation='relu', input_shape=(150, 150, 3)),\n",
    "    tf.keras.layers.MaxPooling2D(2, 2),\n",
    "    \n",
    "    # SECOND CONVOLUTION\n",
    "    tf.keras.layers.Conv2D(64, (3,3), activation='relu'),\n",
    "    tf.keras.layers.MaxPooling2D(2,2),\n",
    "    \n",
    "    # THIRD CONVOLUTION\n",
    "    tf.keras.layers.Conv2D(64, (3,3), activation='relu'),\n",
    "    tf.keras.layers.MaxPooling2D(2,2),\n",
    "\n",
    "#     The fourth convolution\n",
    "#     tf.keras.layers.Conv2D(128, (3,3), activation='relu'),\n",
    "#     tf.keras.layers.MaxPooling2D(2,2),\n",
    "\n",
    "    # Flatten the results to feed into a DNN\n",
    "    \n",
    "    tf.keras.layers.Flatten(),\n",
    "    tf.keras.layers.Dropout(0.5),\n",
    "    \n",
    "    # 512 neuron hidden layer\n",
    "    tf.keras.layers.Dense(32, activation='relu'),\n",
    "    tf.keras.layers.Dense(3, activation='softmax')\n",
    "])\n",
    "\n",
    "# Print the model summary\n",
    "model.summary()"
   ]
  },
  {
   "cell_type": "markdown",
   "id": "62a27854",
   "metadata": {},
   "source": [
    "-------------------------\n",
    "You will then compile the model. The key change here is the `loss` function. Whereas before you were using `binary_crossentropy` for 2 classes, you will change it to [categorical_crossentropy](https://keras.io/api/losses/probabilistic_losses/#categoricalcrossentropy-function) to extend it to more classes.\n",
    "\n",
    "-------------------------"
   ]
  },
  {
   "cell_type": "code",
   "execution_count": 8,
   "id": "9ec2fc79",
   "metadata": {},
   "outputs": [],
   "source": [
    "# Set the training parameters\n",
    "model.compile(loss = 'categorical_crossentropy', \n",
    "              optimizer='rmsprop', \n",
    "              metrics=['accuracy'])"
   ]
  },
  {
   "cell_type": "markdown",
   "id": "247fccc8",
   "metadata": {},
   "source": [
    "----------------------------\n",
    "\n",
    "### <font color='brown'> Preparing the ImageDataGenerator </font>\n",
    "\n",
    "\n",
    "----------------------------\n",
    "\n",
    "You will prepare the generators as before. You will set the training set up for data augmentation so it can mimick other poses that the model needs to learn.\n",
    "\n",
    "----------------------------"
   ]
  },
  {
   "cell_type": "code",
   "execution_count": 11,
   "id": "35073e3d",
   "metadata": {},
   "outputs": [
    {
     "name": "stdout",
     "output_type": "stream",
     "text": [
      "Found 2520 images belonging to 3 classes.\n",
      "Found 372 images belonging to 3 classes.\n"
     ]
    }
   ],
   "source": [
    "TRAINING_DIR = \"G:/My Drive/[Study]/$ Primary Study work/Python - ipynb Notebooks/Data/Dataset 3 - Rock, Paper, Scissor/rps-train/rps\"\n",
    "training_datagen = ImageDataGenerator(\n",
    "    rescale = 1./255,\n",
    "    rotation_range=40,\n",
    "    width_shift_range=0.2,\n",
    "    height_shift_range=0.2,\n",
    "    shear_range=0.2,\n",
    "    zoom_range=0.2,\n",
    "    horizontal_flip=True,\n",
    "    fill_mode='nearest')\n",
    "\n",
    "VALIDATION_DIR = \"G:/My Drive/[Study]/$ Primary Study work/Python - ipynb Notebooks/Data/Dataset 3 - Rock, Paper, Scissor/rps-test/rps-test-set\"\n",
    "\n",
    "validation_datagen = ImageDataGenerator(rescale = 1./255)\n",
    "\n",
    "train_generator = training_datagen.flow_from_directory(\n",
    "    TRAINING_DIR,\n",
    "    target_size=(150,150),\n",
    "    class_mode='categorical',\n",
    "    batch_size=64\n",
    ")\n",
    "\n",
    "validation_generator = validation_datagen.flow_from_directory(\n",
    "    VALIDATION_DIR,\n",
    "    target_size=(150,150),\n",
    "    class_mode='categorical',\n",
    "    batch_size=64)"
   ]
  },
  {
   "cell_type": "markdown",
   "id": "2dd62813",
   "metadata": {},
   "source": [
    "-----------------------------\n",
    "\n",
    "### <font color='brown'> Train the model and evaluate the results\n",
    "\n",
    "-----------------------------\n",
    "\n",
    "You will train for 25 epochs and evaludate the results afterwards. Observe how both the training and validation accuracy are trending upwards. This is a good indication that the model is not overfitting to only your training set.\n",
    "\n",
    "\n",
    "-----------------------------"
   ]
  },
  {
   "cell_type": "code",
   "execution_count": 13,
   "id": "0c143d78",
   "metadata": {
    "scrolled": true
   },
   "outputs": [
    {
     "name": "stdout",
     "output_type": "stream",
     "text": [
      "Epoch 1/25\n",
      "20/20 [==============================] - 13s 667ms/step - loss: 1.0282 - accuracy: 0.4719 - val_loss: 0.8026 - val_accuracy: 0.7867\n",
      "Epoch 2/25\n",
      "20/20 [==============================] - 14s 672ms/step - loss: 0.9469 - accuracy: 0.5742 - val_loss: 0.8858 - val_accuracy: 0.4133\n",
      "Epoch 3/25\n",
      "20/20 [==============================] - 13s 642ms/step - loss: 0.8234 - accuracy: 0.6024 - val_loss: 0.5764 - val_accuracy: 0.8933\n",
      "Epoch 4/25\n",
      "20/20 [==============================] - 13s 645ms/step - loss: 0.6904 - accuracy: 0.6895 - val_loss: 0.4865 - val_accuracy: 0.9067\n",
      "Epoch 5/25\n",
      "20/20 [==============================] - 13s 629ms/step - loss: 0.6328 - accuracy: 0.7273 - val_loss: 0.3789 - val_accuracy: 0.8400\n",
      "Epoch 6/25\n",
      "20/20 [==============================] - 13s 649ms/step - loss: 0.6177 - accuracy: 0.7234 - val_loss: 0.3792 - val_accuracy: 0.9200\n",
      "Epoch 7/25\n",
      "20/20 [==============================] - 13s 651ms/step - loss: 0.5513 - accuracy: 0.7680 - val_loss: 0.3917 - val_accuracy: 0.8667\n",
      "Epoch 8/25\n",
      "20/20 [==============================] - 13s 627ms/step - loss: 0.5221 - accuracy: 0.7815 - val_loss: 0.2592 - val_accuracy: 0.9067\n",
      "Epoch 9/25\n",
      "20/20 [==============================] - 15s 730ms/step - loss: 0.4766 - accuracy: 0.8102 - val_loss: 0.3525 - val_accuracy: 0.8800\n",
      "Epoch 10/25\n",
      "20/20 [==============================] - 13s 627ms/step - loss: 0.4533 - accuracy: 0.8169 - val_loss: 0.1992 - val_accuracy: 0.9200\n",
      "Epoch 11/25\n",
      "20/20 [==============================] - 13s 657ms/step - loss: 0.4875 - accuracy: 0.8008 - val_loss: 0.2989 - val_accuracy: 0.7867\n",
      "Epoch 12/25\n",
      "20/20 [==============================] - 14s 679ms/step - loss: 0.5259 - accuracy: 0.8156 - val_loss: 0.2020 - val_accuracy: 0.9333\n",
      "Epoch 13/25\n",
      "20/20 [==============================] - 13s 660ms/step - loss: 0.3556 - accuracy: 0.8653 - val_loss: 0.1827 - val_accuracy: 0.9467\n",
      "Epoch 14/25\n",
      "20/20 [==============================] - 13s 643ms/step - loss: 0.3947 - accuracy: 0.8323 - val_loss: 0.3627 - val_accuracy: 0.7333\n",
      "Epoch 15/25\n",
      "20/20 [==============================] - 15s 732ms/step - loss: 0.3460 - accuracy: 0.8742 - val_loss: 0.1778 - val_accuracy: 0.9200\n",
      "Epoch 16/25\n",
      "20/20 [==============================] - 13s 661ms/step - loss: 0.3198 - accuracy: 0.8798 - val_loss: 0.3471 - val_accuracy: 0.8133\n",
      "Epoch 17/25\n",
      "20/20 [==============================] - 14s 691ms/step - loss: 0.3193 - accuracy: 0.8798 - val_loss: 0.0817 - val_accuracy: 0.9867\n",
      "Epoch 18/25\n",
      "20/20 [==============================] - 13s 655ms/step - loss: 0.3437 - accuracy: 0.8750 - val_loss: 0.0994 - val_accuracy: 1.0000\n",
      "Epoch 19/25\n",
      "20/20 [==============================] - 13s 642ms/step - loss: 0.2594 - accuracy: 0.9031 - val_loss: 0.1037 - val_accuracy: 0.9867\n",
      "Epoch 20/25\n",
      "20/20 [==============================] - 12s 616ms/step - loss: 0.3102 - accuracy: 0.8960 - val_loss: 0.0743 - val_accuracy: 1.0000\n",
      "Epoch 21/25\n",
      "20/20 [==============================] - 12s 608ms/step - loss: 0.2457 - accuracy: 0.9185 - val_loss: 0.0911 - val_accuracy: 0.9733\n",
      "Epoch 22/25\n",
      "20/20 [==============================] - 12s 597ms/step - loss: 0.2788 - accuracy: 0.9040 - val_loss: 0.1603 - val_accuracy: 0.9467\n",
      "Epoch 23/25\n",
      "20/20 [==============================] - 12s 592ms/step - loss: 0.2387 - accuracy: 0.9169 - val_loss: 0.0650 - val_accuracy: 0.9867\n",
      "Epoch 24/25\n",
      "20/20 [==============================] - 12s 602ms/step - loss: 0.2885 - accuracy: 0.9040 - val_loss: 0.0220 - val_accuracy: 1.0000\n",
      "Epoch 25/25\n",
      "20/20 [==============================] - 12s 606ms/step - loss: 0.2202 - accuracy: 0.9218 - val_loss: 0.2509 - val_accuracy: 0.8800\n"
     ]
    }
   ],
   "source": [
    "# Train the model\n",
    "history = model.fit(train_generator, \n",
    "                    epochs=25, \n",
    "                    steps_per_epoch=20, \n",
    "                    validation_data = validation_generator,\n",
    "                    verbose = 1, \n",
    "                    validation_steps=3)"
   ]
  },
  {
   "cell_type": "code",
   "execution_count": 14,
   "id": "46937e7a",
   "metadata": {},
   "outputs": [
    {
     "name": "stderr",
     "output_type": "stream",
     "text": [
      "C:\\Users\\Cloudy\\anaconda3\\envs\\tf_gpu\\lib\\site-packages\\ipykernel_launcher.py:18: UserWarning: color is redundantly defined by the 'color' keyword argument and the fmt string \"b\" (-> color=(0.0, 0.0, 1.0, 1)). The keyword argument will take precedence.\n",
      "C:\\Users\\Cloudy\\anaconda3\\envs\\tf_gpu\\lib\\site-packages\\ipykernel_launcher.py:24: UserWarning: color is redundantly defined by the 'color' keyword argument and the fmt string \"b\" (-> color=(0.0, 0.0, 1.0, 1)). The keyword argument will take precedence.\n"
     ]
    },
    {
     "data": {
      "image/png": "[encoded data removed]",
      "text/plain": [
       "<Figure size 1300x300 with 2 Axes>"
      ]
     },
     "metadata": {},
     "output_type": "display_data"
    }
   ],
   "source": [
    "# Plotting the Accuracy and Loss\n",
    "#\n",
    "plot_loss_acc(history)"
   ]
  },
  {
   "cell_type": "markdown",
   "id": "e85d9c70",
   "metadata": {},
   "source": [
    "------------------\n",
    "### <font color='brown'> Model Prediction </font>\n",
    "\n",
    "------------------"
   ]
  },
  {
   "cell_type": "code",
   "execution_count": null,
   "id": "111842e5",
   "metadata": {},
   "outputs": [],
   "source": []
  }
 ],
 "metadata": {
  "kernelspec": {
   "display_name": "Python 3 (ipykernel)",
   "language": "python",
   "name": "python3"
  },
  "language_info": {
   "codemirror_mode": {
    "name": "ipython",
    "version": 3
   },
   "file_extension": ".py",
   "mimetype": "text/x-python",
   "name": "python",
   "nbconvert_exporter": "python",
   "pygments_lexer": "ipython3",
   "version": "3.7.12"
  }
 },
 "nbformat": 4,
 "nbformat_minor": 5
}
